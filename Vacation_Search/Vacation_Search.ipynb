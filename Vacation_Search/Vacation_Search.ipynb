{
 "cells": [
  {
   "cell_type": "markdown",
   "metadata": {},
   "source": [
    "# Deliverable 2. Create a Customer Travel Destinations Map.\n",
    "----\n",
    "1. Create a folder called `Vacation_Search` to save all the files related with this deliverable.\n",
    "\n",
    "2. Download the `Vacation_Search_starter_code.ipynb` Jupyter notebook,save it into your `Vacation_Search folder`, and rename it as `Vacation_Search.ipynb`.\n",
    "\n",
    "3. In the `Vacation_Search.ipynb` file, ensure that the dependencies and the Google API key is imported correctly.\n",
    "\n",
    "4. From the `Weather_Database` folder you created in the \"Deliverable 1,\" import the `WeatherPy_Database.csv` file as a Pandas DataFrame named `city_data_df`.\n",
    "\n",
    "5. Write two input statements that prompt the user to enter their minimum and maximum temperature criteria for their vacation.\n",
    "\n",
    "6. Create a new Pandas DataFrame by using the `loc` Pandas method to filter the `city_data_df` DataFrame for temperature criteria  collected. Name the DataFrame as `preferred_cities_df`.\n",
    "\n",
    "7. Create a new Pandas DataFrame named `clean_travel_cities` by using the Pandas `dropna` function on the `preferred_cities_df` to drop any empty rows.\n",
    "\n",
    "8. Use the `copy` Pandas function to create a new DataFrame, called `hotel_df`, by copying the following columns from the `clean_travel_cities` DataFrame: \"City\", \"Country\", \"Max Temp\", \"Current Description\", \"Lat\", \"Lng\".\n",
    "\n",
    "9. Add a new empty column named `Hotel Name` to the `hotel_df` DataFrame.\n",
    "\n",
    "10. Review the hotel search parameters provided. These parameters are the same we used in this module; you'll use them to search for a hotel for each city.\n",
    "\n",
    "11. Use a for loop to iterate through the `hotel_df` DataFrame, retrieve the latitude and longitude of each city to find the nearest hotel based on the search parameters provided, then add the hotel name to the `hotel_df` DataFrame. If a hotel isn't found, skip to the next city.\n",
    "\n",
    "12. Drop any rows in the `hotel_df` DataFrame where a hotel name is not found and store the resulting data into a new DataFrame named `clean_hotel_df`.\n",
    "\n",
    "13. Create an CSV file to store the `clean_hotel_df` DataFrame as `WeatherPy_vacation.csv` in the Vacation_Search folder.\n",
    "\n",
    "14. Review the formatting template provided that you'll use to add an information box to each marker in the map. In the pop-up for each city you'll add:\n",
    "\n",
    "    1. The city name.\n",
    "\n",
    "    2. The country code.\n",
    "\n",
    "    3. The weather description and maximum temperature for the city.\n",
    "\n",
    "15. Review the provided list comprehension code to retrieve the city data from each row, which will then be added to the formatting template and saved in the `hotel_info` list.\n",
    "\n",
    "16. Use the provided code snippet to retrieve the latitude and longitude from each row and store them in a new DataFrame called `locations`.\n",
    "\n",
    "17. Refactor your previous marker layer map code to create a marker layer map that will have pop-up markers for each city on the map.\n",
    "\n",
    "18. Take a screenshot of your map and save it to the `Vacation_Search` folder as `WeatherPy_vacation_map.png`.\n",
    "---"
   ]
  },
  {
   "cell_type": "markdown",
   "metadata": {},
   "source": [
    "## Ensure that the dependencies and the Google API key is imported correctly."
   ]
  },
  {
   "cell_type": "code",
   "execution_count": 1,
   "metadata": {},
   "outputs": [],
   "source": [
    "# Dependencies and Setup\n",
    "import pandas as pd\n",
    "import requests\n",
    "import gmaps\n",
    "\n",
    "# Import Google API key\n",
    "from config import g_key\n",
    "\n",
    "# Configure gmaps\n",
    "gmaps.configure(api_key=g_key)"
   ]
  },
  {
   "cell_type": "markdown",
   "metadata": {},
   "source": [
    "## From the `Weather_Database` folder you created in the \"Deliverable 1,\" import the `WeatherPy_Database.csv` file as a Pandas DataFrame."
   ]
  },
  {
   "cell_type": "code",
   "execution_count": 2,
   "metadata": {},
   "outputs": [
    {
     "name": "stdout",
     "output_type": "stream",
     "text": [
      "           City Country      Lat      Lng  Max Temp  Humidity  Cloudiness  \\\n",
      "0  Punta Arenas      CL -53.1500 -70.9167     46.51        61          40   \n",
      "1         Turda      RO  46.5667  23.7833     39.04       100          82   \n",
      "2  Staryy Nadym      RU  65.6118  72.6842    -12.89        99          49   \n",
      "3       Kananga      CD  -5.8958  22.4178     67.46        99         100   \n",
      "4        Shache      CN  38.4167  77.2406     44.87        26          76   \n",
      "\n",
      "   Wind Speed Current Description  \n",
      "0       34.52    scattered clouds  \n",
      "1        1.14                 fog  \n",
      "2        4.61    scattered clouds  \n",
      "3        1.48          light rain  \n",
      "4        0.27       broken clouds  \n"
     ]
    }
   ],
   "source": [
    "# Set the file path to import the WeatherPy_database.csv file\n",
    "file_path = \"C:\\\\Users\\\\bpiet\\\\anaconda3\\\\envs\\\\PythonData\\\\Class\\\\Weather_Database\\\\WeatherPy_database.csv\"\n",
    "\n",
    "# Load the CSV file into a Pandas DataFrame\n",
    "city_data_df = pd.read_csv(file_path)\n",
    "\n",
    "# Display sample data\n",
    "print(city_data_df.head())"
   ]
  },
  {
   "cell_type": "markdown",
   "metadata": {},
   "source": [
    "## Write two input statements that prompt the user to enter their minimum and maximum temperature criteria for their vacation."
   ]
  },
  {
   "cell_type": "code",
   "execution_count": 1,
   "metadata": {},
   "outputs": [
    {
     "name": "stdout",
     "output_type": "stream",
     "text": [
      "Minimum acceptable temperature: 10\n",
      "Maximum acceptable temperature: 45\n"
     ]
    }
   ],
   "source": [
    "# Prompt the user to enter the minimum temperature criteria\n",
    "min_temp = float(input(\"Minimum acceptable temperature: \"))\n",
    "\n",
    "# Prompt the user to enter the maximum temperature criteria\n",
    "max_temp = float(input(\"Maximum acceptable temperature: \"))"
   ]
  },
  {
   "cell_type": "markdown",
   "metadata": {},
   "source": [
    "## Create a new Pandas DataFrame by using the `loc` Pandas method to filter the `city_data_df` DataFrame for temperature criteria  collected."
   ]
  },
  {
   "cell_type": "code",
   "execution_count": null,
   "metadata": {},
   "outputs": [],
   "source": [
    "# Filter the city_data_df DataFrame to find the cities that fit the criteria using the loc Pandas function\n",
    "preferred_cities_df = city_data_df.loc[(city_data_df['Max Temp']>=min_temp) & (city_data_df['Max Temp']<=max_temp)]\n",
    "                                    \n",
    "# Display sample data\n",
    "print(preferred_cities_df.head())"
   ]
  },
  {
   "cell_type": "markdown",
   "metadata": {},
   "source": [
    "## Create a new Pandas DataFrame named `clean_travel_cities` by using the Pandas `dropna` function on the `preferred_cities_df` to drop any empty rows."
   ]
  },
  {
   "cell_type": "code",
   "execution_count": null,
   "metadata": {},
   "outputs": [],
   "source": [
    "# Drop any empty rows in the preferred_cities_df DataFrame and create a new DataFrame.\n",
    "clean_travel_cities = preferred_cities_df.dropna()\n",
    "\n",
    "# Display sample data\n",
    "print(clean_travel_cities.head())"
   ]
  },
  {
   "cell_type": "markdown",
   "metadata": {},
   "source": [
    "## Use the `copy` Pandas function to create a new DataFrame, called `hotel_df`, by copying the following columns from the `clean_travel_cities` DataFrame: \"City\", \"Country\", \"Max Temp\", \"Current Description\", \"Lat\", \"Lng\"."
   ]
  },
  {
   "cell_type": "code",
   "execution_count": 4,
   "metadata": {},
   "outputs": [
    {
     "ename": "NameError",
     "evalue": "name 'city_data_df' is not defined",
     "output_type": "error",
     "traceback": [
      "\u001b[1;31m---------------------------------------------------------------------------\u001b[0m",
      "\u001b[1;31mNameError\u001b[0m                                 Traceback (most recent call last)",
      "\u001b[1;32m~\\AppData\\Local\\Temp\\ipykernel_21660\\2980479283.py\u001b[0m in \u001b[0;36m<module>\u001b[1;34m\u001b[0m\n\u001b[0;32m      1\u001b[0m \u001b[1;31m# Filter the city_data_df DataFrame to find the cities that fit the criteria using the loc Pandas function\u001b[0m\u001b[1;33m\u001b[0m\u001b[1;33m\u001b[0m\u001b[0m\n\u001b[1;32m----> 2\u001b[1;33m \u001b[0mpreferred_cities_df\u001b[0m \u001b[1;33m=\u001b[0m \u001b[0mcity_data_df\u001b[0m\u001b[1;33m.\u001b[0m\u001b[0mloc\u001b[0m\u001b[1;33m[\u001b[0m\u001b[1;33m(\u001b[0m\u001b[0mcity_data_df\u001b[0m\u001b[1;33m[\u001b[0m\u001b[1;34m'Max Temp'\u001b[0m\u001b[1;33m]\u001b[0m\u001b[1;33m>=\u001b[0m\u001b[0mmin_temp\u001b[0m\u001b[1;33m)\u001b[0m \u001b[1;33m&\u001b[0m \u001b[1;33m(\u001b[0m\u001b[0mcity_data_df\u001b[0m\u001b[1;33m[\u001b[0m\u001b[1;34m'Max Temp'\u001b[0m\u001b[1;33m]\u001b[0m\u001b[1;33m<=\u001b[0m\u001b[0mmax_temp\u001b[0m\u001b[1;33m)\u001b[0m\u001b[1;33m]\u001b[0m\u001b[1;33m\u001b[0m\u001b[1;33m\u001b[0m\u001b[0m\n\u001b[0m\u001b[0;32m      3\u001b[0m \u001b[1;33m\u001b[0m\u001b[0m\n\u001b[0;32m      4\u001b[0m \u001b[1;31m# Create DataFrame called hotel_df by copying some columns from the clean_travel_cities DataFrame.\u001b[0m\u001b[1;33m\u001b[0m\u001b[1;33m\u001b[0m\u001b[0m\n\u001b[0;32m      5\u001b[0m \u001b[0mhotel_df\u001b[0m \u001b[1;33m=\u001b[0m \u001b[0mclean_travel_cities\u001b[0m\u001b[1;33m[\u001b[0m\u001b[1;33m[\u001b[0m\u001b[1;34m\"City\"\u001b[0m\u001b[1;33m,\u001b[0m \u001b[1;34m\"Country\"\u001b[0m\u001b[1;33m,\u001b[0m \u001b[1;34m\"Max Temp\"\u001b[0m\u001b[1;33m,\u001b[0m \u001b[1;34m\"Current Description\"\u001b[0m\u001b[1;33m,\u001b[0m \u001b[1;34m\"Lat\"\u001b[0m\u001b[1;33m,\u001b[0m \u001b[1;34m\"Lng\"\u001b[0m\u001b[1;33m]\u001b[0m\u001b[1;33m]\u001b[0m\u001b[1;33m.\u001b[0m\u001b[0mcopy\u001b[0m\u001b[1;33m(\u001b[0m\u001b[1;33m)\u001b[0m\u001b[1;33m\u001b[0m\u001b[1;33m\u001b[0m\u001b[0m\n",
      "\u001b[1;31mNameError\u001b[0m: name 'city_data_df' is not defined"
     ]
    }
   ],
   "source": [
    "# Filter the city_data_df DataFrame to find the cities that fit the criteria using the loc Pandas function\n",
    "preferred_cities_df = city_data_df.loc[(city_data_df['Max Temp']>=min_temp) & (city_data_df['Max Temp']<=max_temp)]\n",
    "\n",
    "# Create DataFrame called hotel_df by copying some columns from the clean_travel_cities DataFrame.\n",
    "hotel_df = clean_travel_cities[[\"City\", \"Country\", \"Max Temp\", \"Current Description\", \"Lat\", \"Lng\"]].copy()\n",
    "\n",
    "\n",
    "# Display sample data\n",
    "print(hotel_df.head())"
   ]
  },
  {
   "cell_type": "markdown",
   "metadata": {},
   "source": [
    "## Add a new empty column named `Hotel Name` to the `hotel_df` DataFrame."
   ]
  },
  {
   "cell_type": "code",
   "execution_count": null,
   "metadata": {},
   "outputs": [],
   "source": [
    "# Add a new empty column, \"Hotel Name\", to the hotel_df DataFrame\n",
    "hotel_df[\"Hotel Name\"] = \"\"\n",
    "\n",
    "# Display sample data\n",
    "print(hotel_df.head())"
   ]
  },
  {
   "cell_type": "markdown",
   "metadata": {},
   "source": [
    "## Review the hotel search parameters provided. These parameters are the same we used in this module; you'll use them to search for a hotel for each city."
   ]
  },
  {
   "cell_type": "code",
   "execution_count": null,
   "metadata": {},
   "outputs": [],
   "source": [
    "# Review the parameters to search for a hotel\n",
    "params = {\n",
    "    \"radius\": 5000,\n",
    "    \"type\": \"lodging\",\n",
    "    \"key\": g_key\n",
    "}        "
   ]
  },
  {
   "cell_type": "markdown",
   "metadata": {},
   "source": [
    "Use a for loop to iterate through the `hotel_df` DataFrame, retrieve the latitude and longitude of each city to find the nearest hotel based on the search parameters provided, then add the hotel name to the `hotel_df` DataFrame. If a hotel isn't found, skip to the next city."
   ]
  },
  {
   "cell_type": "code",
   "execution_count": 46,
   "metadata": {},
   "outputs": [
    {
     "name": "stdout",
     "output_type": "stream",
     "text": [
      "Minimum acceptable temperature: 10\n",
      "Maximum acceptable temperature: 15\n",
      "{'html_attributions': [], 'results': [{'business_status': 'OPERATIONAL', 'geometry': {'location': {'lat': 49.6901546, 'lng': -83.66677109999999}, 'viewport': {'northeast': {'lat': 49.69130278029149, 'lng': -83.66509431970849}, 'southwest': {'lat': 49.68860481970849, 'lng': -83.66779228029151}}}, 'icon': 'https://maps.gstatic.com/mapfiles/place_api/icons/v1/png_71/lodging-71.png', 'icon_background_color': '#909CE1', 'icon_mask_base_uri': 'https://maps.gstatic.com/mapfiles/place_api/icons/v2/hotel_pinlet', 'name': 'Companion', 'opening_hours': {'open_now': True}, 'photos': [{'height': 398, 'html_attributions': ['<a href=\"https://maps.google.com/maps/contrib/113281167746351545527\">Companion</a>'], 'photo_reference': 'AW30NDyOoxajLMYRUWqZT7ObGHBdhjdnu7GYqwSjaIJ1zEhWyWvAiREAQKo2Ynw3elN2fuLrs1Hm7yMn83KqnkOllGDMcWGp8Sk0Ija68dIVO5DM-O8NDlQQ2qli6paLwcCIWPJU6yGqLLfB3pIby23Nk3FvYomVhlnivchjXE4jbDyw4-dv', 'width': 995}], 'place_id': 'ChIJMUUZZC7mP00RO1x6ZFB5SM4', 'plus_code': {'compound_code': 'M8RM+37 Hearst, ON, Canada', 'global_code': '86XRM8RM+37'}, 'rating': 4.1, 'reference': 'ChIJMUUZZC7mP00RO1x6ZFB5SM4', 'scope': 'GOOGLE', 'types': ['lodging', 'point_of_interest', 'establishment'], 'user_ratings_total': 307, 'vicinity': '930 Front Street, Hearst'}, {'business_status': 'OPERATIONAL', 'geometry': {'location': {'lat': 49.6911849, 'lng': -83.68834679999999}, 'viewport': {'northeast': {'lat': 49.6927827302915, 'lng': -83.6868821697085}, 'southwest': {'lat': 49.69008476970851, 'lng': -83.6895801302915}}}, 'icon': 'https://maps.gstatic.com/mapfiles/place_api/icons/v1/png_71/lodging-71.png', 'icon_background_color': '#909CE1', 'icon_mask_base_uri': 'https://maps.gstatic.com/mapfiles/place_api/icons/v2/hotel_pinlet', 'name': 'Villa Inn & Suites, SureStay Collection By Best Western', 'photos': [{'height': 2448, 'html_attributions': ['<a href=\"https://maps.google.com/maps/contrib/100311759555501246079\">Villa Inn &amp; Suites, SureStay Collection By Best Western</a>'], 'photo_reference': 'AW30NDzNpPS9-yxh9a7h_iZzxB4MehGjzcQnGQf5OboOf4Vnb6VRyQeA-lnzl5_mGMUmsXwc6txGed--EsJOPpmnDdC173vvOLBhDmTPKNiliRnCU-V1xTsTGWp0tgmrg9p4IT0UrkUTvn9ugazLedbuRJdqXY6L6bPJkY0Uwpa_I5f2LXfi', 'width': 3264}], 'place_id': 'ChIJ_8d1GiPmP00Rx8qlLHgVT4g', 'plus_code': {'compound_code': 'M8R6+FM Hearst, ON, Canada', 'global_code': '86XRM8R6+FM'}, 'rating': 4.6, 'reference': 'ChIJ_8d1GiPmP00Rx8qlLHgVT4g', 'scope': 'GOOGLE', 'types': ['lodging', 'point_of_interest', 'establishment'], 'user_ratings_total': 267, 'vicinity': '1605 Ontario 11, Hearst'}, {'business_status': 'OPERATIONAL', 'geometry': {'location': {'lat': 49.6886041, 'lng': -83.66634909999999}, 'viewport': {'northeast': {'lat': 49.6902117802915, 'lng': -83.66494611970849}, 'southwest': {'lat': 49.6875138197085, 'lng': -83.6676440802915}}}, 'icon': 'https://maps.gstatic.com/mapfiles/place_api/icons/v1/png_71/lodging-71.png', 'icon_background_color': '#909CE1', 'icon_mask_base_uri': 'https://maps.gstatic.com/mapfiles/place_api/icons/v2/hotel_pinlet', 'name': 'Travel Inn Hearst ON Canada', 'opening_hours': {'open_now': True}, 'photos': [{'height': 3024, 'html_attributions': ['<a href=\"https://maps.google.com/maps/contrib/118341432792336504811\">Travel Inn Hearst ON Canada</a>'], 'photo_reference': 'AW30NDwJxXlBxvu7eLS0xUlmX4ACNTW_Gr15aXyhilv-u7yu8XNo0j5QHE3O7Cjs_Ff1gkEi6LjJue69jF6rd3F69XiQygDjcmyo6nqzEZun7KtnFWrNfDAt9zCt7ha0K1lo3s9Qchz0JKBPGdRE1BFJ_hug3gnEVYWjir1VQdErq1FMUInd', 'width': 4032}], 'place_id': 'ChIJxz-qJyzmP00RmTgE_8Snc-8', 'plus_code': {'compound_code': 'M8QM+CF Hearst, ON, Canada', 'global_code': '86XRM8QM+CF'}, 'rating': 3.7, 'reference': 'ChIJxz-qJyzmP00RmTgE_8Snc-8', 'scope': 'GOOGLE', 'types': ['lodging', 'point_of_interest', 'establishment'], 'user_ratings_total': 87, 'vicinity': '915 George Street, Hearst'}, {'business_status': 'OPERATIONAL', 'geometry': {'location': {'lat': 49.6889417, 'lng': -83.6666643}, 'viewport': {'northeast': {'lat': 49.6903971302915, 'lng': -83.6652931197085}, 'southwest': {'lat': 49.6876991697085, 'lng': -83.6679910802915}}}, 'icon': 'https://maps.gstatic.com/mapfiles/place_api/icons/v1/png_71/lodging-71.png', 'icon_background_color': '#909CE1', 'icon_mask_base_uri': 'https://maps.gstatic.com/mapfiles/place_api/icons/v2/hotel_pinlet', 'name': 'Miacat', 'place_id': 'ChIJ40-nR_vnP00RXQMT86GiZuc', 'plus_code': {'compound_code': 'M8QM+H8 Hearst, ON, Canada', 'global_code': '86XRM8QM+H8'}, 'reference': 'ChIJ40-nR_vnP00RXQMT86GiZuc', 'scope': 'GOOGLE', 'types': ['lodging', 'point_of_interest', 'establishment'], 'vicinity': '921 George Street, Hearst'}, {'business_status': 'OPERATIONAL', 'geometry': {'location': {'lat': 49.6903207, 'lng': -83.66786019999999}, 'viewport': {'northeast': {'lat': 49.6914691302915, 'lng': -83.6665529197085}, 'southwest': {'lat': 49.6887711697085, 'lng': -83.6692508802915}}}, 'icon': 'https://maps.gstatic.com/mapfiles/place_api/icons/v1/png_71/lodging-71.png', 'icon_background_color': '#909CE1', 'icon_mask_base_uri': 'https://maps.gstatic.com/mapfiles/place_api/icons/v2/hotel_pinlet', 'name': 'Super 8 by Wyndham Hearst ON', 'opening_hours': {'open_now': True}, 'photos': [{'height': 2268, 'html_attributions': ['<a href=\"https://maps.google.com/maps/contrib/108081218341448071035\">Aso Eng</a>'], 'photo_reference': 'AW30NDyOJGytZLlsbSnDBG2dAp03WpVyCnIbz_hTEE9C5F_cjOeOyZuUSWmdrhj973FwDkK5X1-b4BSTcvahoEtn_9mukQL0oa3lWh0fCQOHY-JaYR0HPLZmGttN8RYKfd1lo2z2MaluIJdeeAlKzrVN_qySf4i-SGaIyjYGknNiVuCG8aDi', 'width': 4032}], 'place_id': 'ChIJ66__Qi7mP00RTyH2VlH5xuQ', 'plus_code': {'compound_code': 'M8RJ+4V Hearst, ON, Canada', 'global_code': '86XRM8RJ+4V'}, 'rating': 3.9, 'reference': 'ChIJ66__Qi7mP00RTyH2VlH5xuQ', 'scope': 'GOOGLE', 'types': ['lodging', 'point_of_interest', 'establishment'], 'user_ratings_total': 129, 'vicinity': '1004 Front Street, Hearst'}, {'business_status': 'OPERATIONAL', 'geometry': {'location': {'lat': 49.6828258, 'lng': -83.6159327}, 'viewport': {'northeast': {'lat': 49.6837572802915, 'lng': -83.6147671197085}, 'southwest': {'lat': 49.68105931970851, 'lng': -83.61746508029151}}}, 'icon': 'https://maps.gstatic.com/mapfiles/place_api/icons/v1/png_71/camping-71.png', 'icon_background_color': '#4DB546', 'icon_mask_base_uri': 'https://maps.gstatic.com/mapfiles/place_api/icons/v2/camping_pinlet', 'name': \"Melanie / Cecile's Campground\", 'photos': [{'height': 1920, 'html_attributions': ['<a href=\"https://maps.google.com/maps/contrib/116749815673088983443\">Giljon Duitman</a>'], 'photo_reference': 'AW30NDywTCe5TfjXLuZ2V0v4_mgUWS04L9-l3xA0ZcPy2RQFJmcIW5npnib6jJLYuBbloNp2yV7sMWMxVvdqVWnzYvc7gkcInJivIphyhitu38C8ZvlJCs3OLZnhpPlrDdYFEf45Czt24jM6ssmZRocMjZ9uIzMSpH8IqPhD7azm6mMQw5SY', 'width': 1080}], 'place_id': 'ChIJbaiGbobnP00RSjkKgQOT1kE', 'plus_code': {'compound_code': 'M9MM+4J Hearst, ON, Canada', 'global_code': '86XRM9MM+4J'}, 'rating': 4.7, 'reference': 'ChIJbaiGbobnP00RSjkKgQOT1kE', 'scope': 'GOOGLE', 'types': ['campground', 'lodging', 'park', 'point_of_interest', 'establishment'], 'user_ratings_total': 3, 'vicinity': '103 Ontario 11, Hearst'}], 'status': 'OK'}\n",
      "{'html_attributions': [], 'results': [{'business_status': 'OPERATIONAL', 'geometry': {'location': {'lat': 55.52697200000001, 'lng': 70.3324547}, 'viewport': {'northeast': {'lat': 55.52820098029151, 'lng': 70.3339154302915}, 'southwest': {'lat': 55.52550301970851, 'lng': 70.33121746970849}}}, 'icon': 'https://maps.gstatic.com/mapfiles/place_api/icons/v1/png_71/lodging-71.png', 'icon_background_color': '#909CE1', 'icon_mask_base_uri': 'https://maps.gstatic.com/mapfiles/place_api/icons/v2/hotel_pinlet', 'name': 'Gostinitsa', 'place_id': 'ChIJfc_9WiVvrkMRemUd1xnUzK4', 'plus_code': {'compound_code': 'G8GJ+QX Sladkovo, Tyumen Oblast, Russia', 'global_code': '9J7GG8GJ+QX'}, 'reference': 'ChIJfc_9WiVvrkMRemUd1xnUzK4', 'scope': 'GOOGLE', 'types': ['lodging', 'point_of_interest', 'establishment'], 'vicinity': 'Ленина ул, 53, Sladkovo'}], 'status': 'OK'}\n",
      "{'html_attributions': [], 'results': [{'business_status': 'OPERATIONAL', 'geometry': {'location': {'lat': 66.9392253, 'lng': -53.64258239999999}, 'viewport': {'northeast': {'lat': 66.94051068029151, 'lng': -53.64117176970849}, 'southwest': {'lat': 66.9378127197085, 'lng': -53.64386973029149}}}, 'icon': 'https://maps.gstatic.com/mapfiles/place_api/icons/v1/png_71/lodging-71.png', 'icon_background_color': '#909CE1', 'icon_mask_base_uri': 'https://maps.gstatic.com/mapfiles/place_api/icons/v2/hotel_pinlet', 'name': 'Hotel Sisimiut', 'opening_hours': {'open_now': True}, 'photos': [{'height': 2736, 'html_attributions': ['<a href=\"https://maps.google.com/maps/contrib/115536074502027378586\">Hotel Sisimiut</a>'], 'photo_reference': 'AW30NDxRG0CtPZHLaonNTpj4OwmO7mC4ZT1nkFafzzZ5NtVssTB3vaLlU8PY9DPJpvdss9eIw5OWrEkygMyj9LMTwJvPY5wAOlsIoDU9XPMf0aVBlJIqBWJ6ovzAPEtL80XwTDvxumRXdK23fIHP5r7r7aClO30qpSqb5KOEIajmCDbspuIl', 'width': 3648}], 'place_id': 'ChIJo5IRY2tRkE4RS9KliK3GCvw', 'plus_code': {'compound_code': 'W9Q4+MX Sisimiut, Greenland', 'global_code': '98R8W9Q4+MX'}, 'rating': 4.3, 'reference': 'ChIJo5IRY2tRkE4RS9KliK3GCvw', 'scope': 'GOOGLE', 'types': ['lodging', 'point_of_interest', 'establishment'], 'user_ratings_total': 81, 'vicinity': 'Postboks 70, Aqqusinersuaq 86, Sisimiut'}, {'business_status': 'OPERATIONAL', 'geometry': {'location': {'lat': 66.9383519, 'lng': -53.67376739999999}, 'viewport': {'northeast': {'lat': 66.93970993029151, 'lng': -53.6723463697085}, 'southwest': {'lat': 66.9370119697085, 'lng': -53.6750443302915}}}, 'icon': 'https://maps.gstatic.com/mapfiles/place_api/icons/v1/png_71/lodging-71.png', 'icon_background_color': '#909CE1', 'icon_mask_base_uri': 'https://maps.gstatic.com/mapfiles/place_api/icons/v2/hotel_pinlet', 'name': 'Hotel SØMA Sisimiut', 'opening_hours': {'open_now': True}, 'photos': [{'height': 4460, 'html_attributions': ['<a href=\"https://maps.google.com/maps/contrib/117940823197747903084\">Hotel SØMA Sisimiut</a>'], 'photo_reference': 'AW30NDyZIUblrYVJXvLRhnB9jaj6Hab1E3pgcLU_iNxMf8h4q0GCPn4aVmTRppTKMwJNtcjmtxO71__M4Ns-jMNPD4wO7t01zh-QezvOSu6Ww2wGzdA1gCBCu8HAPknbnyd-rTiw0U62DvdxEIQ68GWyKO49LNplCt9yBkBCb2AFg-2ZrIaf', 'width': 6690}], 'place_id': 'ChIJM46rKwxRkE4RKN0FvKC2Xug', 'plus_code': {'compound_code': 'W8QG+8F Sisimiut, Greenland', 'global_code': '98R8W8QG+8F'}, 'rating': 4.5, 'reference': 'ChIJM46rKwxRkE4RKN0FvKC2Xug', 'scope': 'GOOGLE', 'types': ['lodging', 'point_of_interest', 'establishment'], 'user_ratings_total': 53, 'vicinity': \"Frederik den IX's Plads, Holsteinsborg\"}, {'business_status': 'OPERATIONAL', 'geometry': {'location': {'lat': 66.9336531, 'lng': -53.670626}, 'viewport': {'northeast': {'lat': 66.93505593029151, 'lng': -53.66948481970849}, 'southwest': {'lat': 66.93235796970849, 'lng': -53.67218278029149}}}, 'icon': 'https://maps.gstatic.com/mapfiles/place_api/icons/v1/png_71/lodging-71.png', 'icon_background_color': '#909CE1', 'icon_mask_base_uri': 'https://maps.gstatic.com/mapfiles/place_api/icons/v2/hotel_pinlet', 'name': 'Sisimiut Vandrehjem', 'opening_hours': {'open_now': False}, 'photos': [{'height': 600, 'html_attributions': ['<a href=\"https://maps.google.com/maps/contrib/116507195296998921118\">Sisimiut Vandrehjem</a>'], 'photo_reference': 'AW30NDyHthLgDUejtYD9htDZVFgRqAlRzh-tTk3u-1mxicyHVcAk-X_R_iybSEjImNbct9DSXhY3nlPZOpvD1Yj_sAC1aOL7p2LEWH0ATA4CAxEN-9CE8l-RSOX8GWYHFZRzn6Mm_TSjb73WDSdb56y5k-66y88nqmXTpivumdHNZRv3ZXaw', 'width': 800}], 'place_id': 'ChIJx9Y4LRBRkE4RoDf78NFL4JM', 'plus_code': {'compound_code': 'W8MH+FP Sisimiut, Greenland', 'global_code': '98R8W8MH+FP'}, 'rating': 4.1, 'reference': 'ChIJx9Y4LRBRkE4RoDf78NFL4JM', 'scope': 'GOOGLE', 'types': ['lodging', 'point_of_interest', 'establishment'], 'user_ratings_total': 10, 'vicinity': 'Kaalikassap Aqq 25, Sisimiut'}, {'business_status': 'OPERATIONAL', 'geometry': {'location': {'lat': 66.9344442, 'lng': -53.6502589}, 'viewport': {'northeast': {'lat': 66.9357797302915, 'lng': -53.6488377697085}, 'southwest': {'lat': 66.93308176970848, 'lng': -53.65153573029149}}}, 'icon': 'https://maps.gstatic.com/mapfiles/place_api/icons/v1/png_71/lodging-71.png', 'icon_background_color': '#909CE1', 'icon_mask_base_uri': 'https://maps.gstatic.com/mapfiles/place_api/icons/v2/hotel_pinlet', 'name': 'Villa', 'place_id': 'ChIJDUS6aBRRkE4RTmVA4N3vWdw', 'plus_code': {'compound_code': 'W8MX+QV Sisimiut, Greenland', 'global_code': '98R8W8MX+QV'}, 'reference': 'ChIJDUS6aBRRkE4RTmVA4N3vWdw', 'scope': 'GOOGLE', 'types': ['lodging', 'point_of_interest', 'establishment'], 'vicinity': 'Bolethep Aqqutaa 27, Sisimiut'}], 'status': 'OK'}\n"
     ]
    },
    {
     "name": "stdout",
     "output_type": "stream",
     "text": [
      "{'html_attributions': [], 'results': [{'business_status': 'OPERATIONAL', 'geometry': {'location': {'lat': 56.0803153, 'lng': 56.5388682}, 'viewport': {'northeast': {'lat': 56.08169103029149, 'lng': 56.5406574802915}, 'southwest': {'lat': 56.0789930697085, 'lng': 56.5379595197085}}}, 'icon': 'https://maps.gstatic.com/mapfiles/place_api/icons/v1/png_71/lodging-71.png', 'icon_background_color': '#909CE1', 'icon_mask_base_uri': 'https://maps.gstatic.com/mapfiles/place_api/icons/v2/hotel_pinlet', 'name': 'Uyut', 'place_id': 'ChIJNZNbwn-p3UMRJH6hupjx2Ds', 'reference': 'ChIJNZNbwn-p3UMRJH6hupjx2Ds', 'scope': 'GOOGLE', 'types': ['lodging', 'point_of_interest', 'establishment'], 'vicinity': '3GJQ+4G, Askino'}], 'status': 'OK'}\n",
      "{'html_attributions': [], 'results': [{'business_status': 'OPERATIONAL', 'geometry': {'location': {'lat': 59.03497969999999, 'lng': 80.8779359}, 'viewport': {'northeast': {'lat': 59.0363781302915, 'lng': 80.8792118302915}, 'southwest': {'lat': 59.03368016970848, 'lng': 80.87651386970849}}}, 'icon': 'https://maps.gstatic.com/mapfiles/place_api/icons/v1/png_71/lodging-71.png', 'icon_background_color': '#909CE1', 'icon_mask_base_uri': 'https://maps.gstatic.com/mapfiles/place_api/icons/v2/hotel_pinlet', 'name': 'Hotel Kargasok', 'photos': [{'height': 1080, 'html_attributions': ['<a href=\"https://maps.google.com/maps/contrib/106607211810222717862\">Николай Дмитриев</a>'], 'photo_reference': 'AW30NDz4o-7j3myPIHUn_WknHC01-DhTAOja0cBt4PaGZy99AVpIfPT_hnL5-KhlVKFgRpQqaO7yknb5e7W5kzbblPvBd93Sfp1wUaQseFmi0xl7tyvNLPOCxgQyw-YXIAdgkRqRla0dH0FhDjyl8bOql-1sKeNDN-WWAxXcCmLeRAM373zt', 'width': 1920}], 'place_id': 'ChIJR2z_lh9HFkMR9uwDImHPYrc', 'plus_code': {'compound_code': '2VMH+X5 Kargasok, Tomsk Oblast, Russia', 'global_code': '9MF22VMH+X5'}, 'rating': 4.2, 'reference': 'ChIJR2z_lh9HFkMR9uwDImHPYrc', 'scope': 'GOOGLE', 'types': ['lodging', 'point_of_interest', 'establishment'], 'user_ratings_total': 67, 'vicinity': 'ул.Нефтяников 7а строение, Kargasok'}, {'business_status': 'OPERATIONAL', 'geometry': {'location': {'lat': 59.05745500000002, 'lng': 80.8677917}, 'viewport': {'northeast': {'lat': 59.05878113029151, 'lng': 80.86911993029149}, 'southwest': {'lat': 59.05608316970849, 'lng': 80.86642196970848}}}, 'icon': 'https://maps.gstatic.com/mapfiles/place_api/icons/v1/png_71/lodging-71.png', 'icon_background_color': '#909CE1', 'icon_mask_base_uri': 'https://maps.gstatic.com/mapfiles/place_api/icons/v2/hotel_pinlet', 'name': 'Gostitsa Severyanka', 'photos': [{'height': 3968, 'html_attributions': ['<a href=\"https://maps.google.com/maps/contrib/114784036147810281633\">Вероника Дьячкова</a>'], 'photo_reference': 'AW30NDwN7eEHnndz85WJNyJXK6pbDHDB3eaheeRYaXkeFPFyNgB4e0MdFBKucIDRhmK9ifHeIjWt98GrkhiPeMRO0madrE5_Apf_VtTWSDle_h8QCfWqXfjf1uY3gOOp-qX8Lm0PTWNrj-svS7EayGzOaiwxKrPTWVHUcIcjD4Hd-KKFkwFC', 'width': 2976}], 'place_id': 'ChIJqRYyoypHFkMRMmiRIFhh_RY', 'plus_code': {'compound_code': '3V49+X4 Kargasok, Tomsk Oblast, Russia', 'global_code': '9MF23V49+X4'}, 'rating': 3.8, 'reference': 'ChIJqRYyoypHFkMRMmiRIFhh_RY', 'scope': 'GOOGLE', 'types': ['lodging', 'point_of_interest', 'establishment'], 'user_ratings_total': 73, 'vicinity': 'Kargasok'}, {'business_status': 'OPERATIONAL', 'geometry': {'location': {'lat': 59.0580193, 'lng': 80.8722854}, 'viewport': {'northeast': {'lat': 59.05929483029151, 'lng': 80.8735633802915}, 'southwest': {'lat': 59.05659686970849, 'lng': 80.8708654197085}}}, 'icon': 'https://maps.gstatic.com/mapfiles/place_api/icons/v1/png_71/lodging-71.png', 'icon_background_color': '#909CE1', 'icon_mask_base_uri': 'https://maps.gstatic.com/mapfiles/place_api/icons/v2/hotel_pinlet', 'name': 'Gostinitsa Grenada', 'opening_hours': {'open_now': True}, 'photos': [{'height': 1152, 'html_attributions': ['<a href=\"https://maps.google.com/maps/contrib/102909045147330728810\">Гостиница Гренада</a>'], 'photo_reference': 'AW30NDyAmUJ5CABWDZMPyZ_kToTyuXiisOMEHH9LfcskVloYp5L3-44zZhhw95DvtRRwbzxTZY67DNwRxJyejUGh3F5aZ1Ra10HLTA6c5LSH_9ovQcDMcwOgNw0QcbAZbLesHCW3ZrwsjmMaH8yrCFwiVltxOfhKW67ivxZ5L3bTT6yRK8Da', 'width': 2048}], 'place_id': 'ChIJMW-VOitHFkMR0L4P02Uek_c', 'plus_code': {'compound_code': '3V5C+6W Kargasok, Tomsk Oblast, Russia', 'global_code': '9MF23V5C+6W'}, 'rating': 3.8, 'reference': 'ChIJMW-VOitHFkMR0L4P02Uek_c', 'scope': 'GOOGLE', 'types': ['lodging', 'point_of_interest', 'establishment'], 'user_ratings_total': 91, 'vicinity': 'Sadovaya Ul., 26, Kargasok'}, {'business_status': 'OPERATIONAL', 'geometry': {'location': {'lat': 59.04362099999999, 'lng': 80.87491600000001}, 'viewport': {'northeast': {'lat': 59.0449772302915, 'lng': 80.87600613029151}, 'southwest': {'lat': 59.04227926970849, 'lng': 80.87330816970851}}}, 'icon': 'https://maps.gstatic.com/mapfiles/place_api/icons/v1/png_71/lodging-71.png', 'icon_background_color': '#909CE1', 'icon_mask_base_uri': 'https://maps.gstatic.com/mapfiles/place_api/icons/v2/hotel_pinlet', 'name': 'Metelitsa', 'opening_hours': {'open_now': True}, 'photos': [{'height': 3072, 'html_attributions': ['<a href=\"https://maps.google.com/maps/contrib/116357574985712767199\">Ал Х</a>'], 'photo_reference': 'AW30NDw7B8gLGFKrilDsfnMYsmlt_aEC6IqUpfWVMesMtBnbVqFAwf3geQq5STwKc0TMFu0Ar1-meUJAA_AFk0_90ySy7UJRX4NP_iG8XUVb8jNQnt5Y-m_AMH89rw_fczJFCzC36Kotv1z45_LrpD7xM-WXY5HjZxhtsoVxveVVU2JcrvLN', 'width': 4096}], 'place_id': 'ChIJjyBTGSdHFkMR02rYxMf2YaE', 'plus_code': {'compound_code': '2VVF+CX Kargasok, Tomsk Oblast, Russia', 'global_code': '9MF22VVF+CX'}, 'rating': 4.2, 'reference': 'ChIJjyBTGSdHFkMR02rYxMf2YaE', 'scope': 'GOOGLE', 'types': ['lodging', 'point_of_interest', 'establishment'], 'user_ratings_total': 33, 'vicinity': 'ул. Красноармейская, д.68, Kargasok'}], 'status': 'OK'}\n",
      "{'html_attributions': [], 'results': [{'business_status': 'OPERATIONAL', 'geometry': {'location': {'lat': 61.55922349999999, 'lng': 45.9086697}, 'viewport': {'northeast': {'lat': 61.56075783029151, 'lng': 45.9099014302915}, 'southwest': {'lat': 61.5580598697085, 'lng': 45.9072034697085}}}, 'icon': 'https://maps.gstatic.com/mapfiles/place_api/icons/v1/png_71/lodging-71.png', 'icon_background_color': '#909CE1', 'icon_mask_base_uri': 'https://maps.gstatic.com/mapfiles/place_api/icons/v2/hotel_pinlet', 'name': 'Baza Otdykha \"Medvezhiy Ugol\"', 'photos': [{'height': 2160, 'html_attributions': ['<a href=\"https://maps.google.com/maps/contrib/107019385168401175863\">Виктория Суворова</a>'], 'photo_reference': 'AW30NDwqbxq_StTzs68z8Xk6vaOSYB7WWtrdy_rRgcIf5-nCCdLq8unIQy3tr-ZdJOf6H8oyEqgvoYDF9tpsxajK94XHarfhNjwP7ST8GUzzD2pIGPCaygH99A19TfxQoS9ftu_17iidEVWHrP6RTUaJJmh_mrU5VPfZEA5lfQi5aRKa5Nth', 'width': 3840}], 'place_id': 'ChIJGyukC7mZBkQRR4sM-lDOdOg', 'plus_code': {'compound_code': 'HW55+MF Krasnoborsk, Arkhangelsk Oblast, Russia', 'global_code': '9HH7HW55+MF'}, 'rating': 3.9, 'reference': 'ChIJGyukC7mZBkQRR4sM-lDOdOg', 'scope': 'GOOGLE', 'types': ['lodging', 'point_of_interest', 'establishment'], 'user_ratings_total': 35, 'vicinity': 'Arkhangelsk Oblast'}, {'business_status': 'OPERATIONAL', 'geometry': {'location': {'lat': 61.5583, 'lng': 45.93819999999999}, 'viewport': {'northeast': {'lat': 61.5596171802915, 'lng': 45.93953708029149}, 'southwest': {'lat': 61.55691921970849, 'lng': 45.93683911970849}}}, 'icon': 'https://maps.gstatic.com/mapfiles/place_api/icons/v1/png_71/lodging-71.png', 'icon_background_color': '#909CE1', 'icon_mask_base_uri': 'https://maps.gstatic.com/mapfiles/place_api/icons/v2/hotel_pinlet', 'name': 'Gostinitsa', 'place_id': 'ChIJZSZI-OmZBkQR1FMgRqy-gbY', 'rating': 4, 'reference': 'ChIJZSZI-OmZBkQR1FMgRqy-gbY', 'scope': 'GOOGLE', 'types': ['lodging', 'point_of_interest', 'establishment'], 'user_ratings_total': 3, 'vicinity': 'Ulitsa Gagarina, 32, Krasnoborsk'}, {'business_status': 'OPERATIONAL', 'geometry': {'location': {'lat': 61.5586324, 'lng': 45.9429966}, 'viewport': {'northeast': {'lat': 61.5599840802915, 'lng': 45.9441130302915}, 'southwest': {'lat': 61.55728611970849, 'lng': 45.9414150697085}}}, 'icon': 'https://maps.gstatic.com/mapfiles/place_api/icons/v1/png_71/lodging-71.png', 'icon_background_color': '#909CE1', 'icon_mask_base_uri': 'https://maps.gstatic.com/mapfiles/place_api/icons/v2/hotel_pinlet', 'name': 'Gostinyy Dvorik', 'opening_hours': {'open_now': True}, 'photos': [{'height': 4096, 'html_attributions': ['<a href=\"https://maps.google.com/maps/contrib/107375396805486422092\">Юлия Юлия</a>'], 'photo_reference': 'AW30NDyWZzoCy-ED0_1og2QSBlwk_ieyCP6C-lpXRwP5a0c2PC6eV6yVAs7IV_QHKIZcco1s8XEAY27SDOKuQloqIjRCyg0eMlvJhHGBW6wAADzO3zKN1vlHOshwpdZf1JolfDIcWbM-1H6gR-r8-gDk4Fzn-xCVnuZwDJvdBp3LcMMTCpbO', 'width': 3072}], 'place_id': 'ChIJO6v7XNOZBkQRDo5ZuqlGoD8', 'plus_code': {'compound_code': 'HW5V+F5 Krasnoborsk, Arkhangelsk Oblast, Russia', 'global_code': '9HH7HW5V+F5'}, 'rating': 4.5, 'reference': 'ChIJO6v7XNOZBkQRDo5ZuqlGoD8', 'scope': 'GOOGLE', 'types': ['lodging', 'point_of_interest', 'establishment'], 'user_ratings_total': 36, 'vicinity': 'Свердлова ул, 13, Krasnoborsk'}], 'status': 'OK'}\n"
     ]
    },
    {
     "name": "stdout",
     "output_type": "stream",
     "text": [
      "{'html_attributions': [], 'next_page_token': 'AW30NDxlxJ1Dq4AxE2Tl4BO4-Be3n8z2O1firKF8upuisHADZ8pdcSSYxd5Wi_wBbYCN0iSoNluKdpvTIU_qSzLCPmm25mNoaFoY8igdbVN6CvDSez0xwBSnSjvcKRQtbJ6VHIYTiasOhr3O_V7JIl7b7a5Z_eCHcrDJgKbZeGsbCaAg6UiBEsKKeeLxokm2EveCs92ChbZVHl28EqOdUvweG9rQ_OAJPCbRZgPRe0L2V6oP_sHYBDUfG2_MVcoqm_CQ5wg058xiwLlXpmKjpvD9_Ij827uD7EOmtUhnj4KreD_vctIsZBVSDhfFOxdMoYoLN3IGuPu97VkQW_wpEM_ZbjZQlucPiR-0INFoFnMhevXJLLecfZ2OmpnhE46MxA1dNbaFrnq9yHGedfB-v5YfMOiTcyLLnJG4i4BPzbyi27LghaZGykrHPtsd', 'results': [{'business_status': 'OPERATIONAL', 'geometry': {'location': {'lat': 34.5636366, 'lng': 76.1225418}, 'viewport': {'northeast': {'lat': 34.5649366802915, 'lng': 76.12396203029151}, 'southwest': {'lat': 34.5622387197085, 'lng': 76.12126406970849}}}, 'icon': 'https://maps.gstatic.com/mapfiles/place_api/icons/v1/png_71/lodging-71.png', 'icon_background_color': '#909CE1', 'icon_mask_base_uri': 'https://maps.gstatic.com/mapfiles/place_api/icons/v2/hotel_pinlet', 'name': 'Hotel Caravan Sarai Kargil', 'photos': [{'height': 3000, 'html_attributions': ['<a href=\"https://maps.google.com/maps/contrib/106173766620131622397\">Hotel Caravan Sarai Kargil</a>'], 'photo_reference': 'AW30NDxWXt8o4FumcuvngXBmXKnuSyHDtQp_9wXLhLdZZcTKt9XSP77TecBR5nuqJ5z3jmb8iVps9wzpm0lOHKw3dzviiugE58RRiGUAm-jEPWmyFRAN6F5RbeRv0TA_7BLDwaipiKqKktuQ1_EMFdM2oKRioFjb48-24MIj49DogF3mIn4m', 'width': 4000}], 'place_id': 'ChIJ8TmX2eQi4zgRxlzkA3SUBGk', 'plus_code': {'compound_code': 'H47F+F2 Kargil, Ladakh', 'global_code': '8J6RH47F+F2'}, 'rating': 3.9, 'reference': 'ChIJ8TmX2eQi4zgRxlzkA3SUBGk', 'scope': 'GOOGLE', 'types': ['lodging', 'point_of_interest', 'establishment'], 'user_ratings_total': 57, 'vicinity': 'Munshi Aziz museum, Lankore, Kargil'}, {'business_status': 'OPERATIONAL', 'geometry': {'location': {'lat': 34.5582283, 'lng': 76.1263816}, 'viewport': {'northeast': {'lat': 34.5595778302915, 'lng': 76.1277393802915}, 'southwest': {'lat': 34.5568798697085, 'lng': 76.1250414197085}}}, 'icon': 'https://maps.gstatic.com/mapfiles/place_api/icons/v1/png_71/lodging-71.png', 'icon_background_color': '#909CE1', 'icon_mask_base_uri': 'https://maps.gstatic.com/mapfiles/place_api/icons/v2/hotel_pinlet', 'name': 'Hotel Pc Palace', 'photos': [{'height': 600, 'html_attributions': ['<a href=\"https://maps.google.com/maps/contrib/103215941581407147485\">Hotel Pc Palace</a>'], 'photo_reference': 'AW30NDwo0geZZ1BQEhTBrZiwVtP6mZoLBEhojQui_VToVnYdU6B3dJMvTSXVPJ6PJVzcvD2LEjmR0sp_sv7usYd9VpMb9G1YWSHBH0v_oAp-qIdZSUGGKCtNljWlHBvSmKWIyblSvbKpQqCgKVejcbY955S8UdILFKHW1pIPX4CIM8KH1yB1', 'width': 480}], 'place_id': 'ChIJVQ2wffwi4zgRrfsk2ioaNzo', 'plus_code': {'compound_code': 'H45G+7H Kargil, Ladakh', 'global_code': '8J6RH45G+7H'}, 'rating': 3.7, 'reference': 'ChIJVQ2wffwi4zgRrfsk2ioaNzo', 'scope': 'GOOGLE', 'types': ['lodging', 'point_of_interest', 'establishment'], 'user_ratings_total': 499, 'vicinity': 'near Hotel Pc City Center, Kargil'}, {'business_status': 'OPERATIONAL', 'geometry': {'location': {'lat': 34.5605325, 'lng': 76.1262953}, 'viewport': {'northeast': {'lat': 34.5618997802915, 'lng': 76.12770958029151}, 'southwest': {'lat': 34.55920181970851, 'lng': 76.1250116197085}}}, 'icon': 'https://maps.gstatic.com/mapfiles/place_api/icons/v1/png_71/lodging-71.png', 'icon_background_color': '#909CE1', 'icon_mask_base_uri': 'https://maps.gstatic.com/mapfiles/place_api/icons/v2/hotel_pinlet', 'name': 'City Guest House kargil', 'photos': [{'height': 3456, 'html_attributions': ['<a href=\"https://maps.google.com/maps/contrib/112469275029545442710\">kollian nimoj</a>'], 'photo_reference': 'AW30NDwtJNfhkpmLf7ODsIIa7tz4rFHfIbdA4BLHEc0NxPd0uNuGz-DLgkdks7U2KPm4FCWOFt9YYxeHQDW_TZokx1IXz0J8E5q9VYIt7h5VfTtokgMx53ZcUziqhRD-wg_GqkRH6pO0QtImg21a6k0xXvP0SPGzWFB_WHhDU8QeCWBl0Vjp', 'width': 4608}], 'place_id': 'ChIJdbu3qfwi4zgRtYJWbxreLgg', 'plus_code': {'compound_code': 'H46G+6G Kargil, Ladakh', 'global_code': '8J6RH46G+6G'}, 'rating': 3.8, 'reference': 'ChIJdbu3qfwi4zgRtYJWbxreLgg', 'scope': 'GOOGLE', 'types': ['lodging', 'point_of_interest', 'establishment'], 'user_ratings_total': 89, 'vicinity': 'Thaqskan Grong, Kargil'}, {'business_status': 'CLOSED_TEMPORARILY', 'geometry': {'location': {'lat': 34.5585444, 'lng': 76.1274004}, 'viewport': {'northeast': {'lat': 34.5599767802915, 'lng': 76.1287093802915}, 'southwest': {'lat': 34.5572788197085, 'lng': 76.12601141970849}}}, 'icon': 'https://maps.gstatic.com/mapfiles/place_api/icons/v1/png_71/lodging-71.png', 'icon_background_color': '#909CE1', 'icon_mask_base_uri': 'https://maps.gstatic.com/mapfiles/place_api/icons/v2/hotel_pinlet', 'name': 'Izhar Palace', 'permanently_closed': True, 'place_id': 'ChIJTfdFivwi4zgRkoOTiDIzmrA', 'plus_code': {'compound_code': 'H45G+CX Kargil, Ladakh', 'global_code': '8J6RH45G+CX'}, 'rating': 4, 'reference': 'ChIJTfdFivwi4zgRkoOTiDIzmrA', 'scope': 'GOOGLE', 'types': ['lodging', 'point_of_interest', 'establishment'], 'user_ratings_total': 6, 'vicinity': 'Indoor Stadium, Road, Chanchick, Khomeini Chowk, Kargil'}, {'business_status': 'OPERATIONAL', 'geometry': {'location': {'lat': 34.5586966, 'lng': 76.12660410000001}, 'viewport': {'northeast': {'lat': 34.5600775802915, 'lng': 76.1277964302915}, 'southwest': {'lat': 34.5573796197085, 'lng': 76.12509846970849}}}, 'icon': 'https://maps.gstatic.com/mapfiles/place_api/icons/v1/png_71/lodging-71.png', 'icon_background_color': '#909CE1', 'icon_mask_base_uri': 'https://maps.gstatic.com/mapfiles/place_api/icons/v2/hotel_pinlet', 'name': 'The Zero Mile Hotel', 'photos': [{'height': 2048, 'html_attributions': ['<a href=\"https://maps.google.com/maps/contrib/113987645401715211163\">sumit chaudhuri</a>'], 'photo_reference': 'AW30NDyKmLmVZ7gwa6VFV5bnjtxbU5grcjCez9Py3mfJ5zIJH-yoF6qqpL6LxOeKvYXzpvaCdg_qWGp468D_5C_MXTWDaGm5WUnzXao60gIXF3B352sNmzNx4JlhBXzc13lAZ4Uw6dxbtD7L0qQH6SoxYnhR-OWsIK8u1Ub3ounNCWpX4npO', 'width': 1536}], 'place_id': 'ChIJm9QEhPwi4zgRRdNK5eW_QXw', 'rating': 3.9, 'reference': 'ChIJm9QEhPwi4zgRRdNK5eW_QXw', 'scope': 'GOOGLE', 'types': ['lodging', 'point_of_interest', 'establishment'], 'user_ratings_total': 147, 'vicinity': 'H45G+FJH, Kargil Main Bazaar Road, Chanchick, Kargil'}, {'business_status': 'OPERATIONAL', 'geometry': {'location': {'lat': 34.5501813, 'lng': 76.13420880000001}, 'viewport': {'northeast': {'lat': 34.5514812802915, 'lng': 76.13550708029152}, 'southwest': {'lat': 34.54878331970851, 'lng': 76.13280911970851}}}, 'icon': 'https://maps.gstatic.com/mapfiles/place_api/icons/v1/png_71/lodging-71.png', 'icon_background_color': '#909CE1', 'icon_mask_base_uri': 'https://maps.gstatic.com/mapfiles/place_api/icons/v2/hotel_pinlet', 'name': 'Hotel Zojila Residency Kargil', 'photos': [{'height': 4000, 'html_attributions': ['<a href=\"https://maps.google.com/maps/contrib/100521729421799771580\">Zojila Residency</a>'], 'photo_reference': 'AW30NDxbuJfuXm6yBlDUmz527KTUByB9-N1h41ROAW5MTfMcauLL9geS2NRMHpnrpkiPDWh7kDB10UpMVC1d9tm2ee3wAyu0OPmdOXb9UNLsM_GYhZ9Lv_A6uBjqb59jA5ezdGplVZpTbbI7zhT0Tg4n8NJP54VzJcVC8yF4QanJiuuD66lu', 'width': 6000}], 'place_id': 'ChIJ8SVXjqoj4zgR5-E249FUEjI', 'plus_code': {'compound_code': 'H42M+3M Kargil, Ladakh', 'global_code': '8J6RH42M+3M'}, 'rating': 4, 'reference': 'ChIJ8SVXjqoj4zgR5-E249FUEjI', 'scope': 'GOOGLE', 'types': ['lodging', 'point_of_interest', 'establishment'], 'user_ratings_total': 1023, 'vicinity': 'Jammu and Kashmir, Bemathang, Baroo, Kargil'}, {'business_status': 'OPERATIONAL', 'geometry': {'location': {'lat': 34.5486625, 'lng': 76.1369531}, 'viewport': {'northeast': {'lat': 34.5500303802915, 'lng': 76.1383407302915}, 'southwest': {'lat': 34.5473324197085, 'lng': 76.1356427697085}}}, 'icon': 'https://maps.gstatic.com/mapfiles/place_api/icons/v1/png_71/lodging-71.png', 'icon_background_color': '#909CE1', 'icon_mask_base_uri': 'https://maps.gstatic.com/mapfiles/place_api/icons/v2/hotel_pinlet', 'name': 'Hotel D Zojila', 'opening_hours': {'open_now': False}, 'photos': [{'height': 1472, 'html_attributions': ['<a href=\"https://maps.google.com/maps/contrib/100817971078151961110\">Thonta Prasad</a>'], 'photo_reference': 'AW30NDxbnejTdCTYOHLOtqLBHwsfL2DCICadImIEnJqQXpjIpp6PUuTZOA82yHvwSNXnf6aklNtcvyUMaDpJBMrixFt90ctTf7A-Ab7RcTfThJjx6enPh9U_UKxnBJ95H8zdZEOPgcWLL8aMSSYnyzRwcYl1B7zxiLDC6BPxOqmGVoyvnWGa', 'width': 3264}], 'place_id': 'ChIJCzbUuKoj4zgR0-HT_Bc9TvQ', 'plus_code': {'compound_code': 'G4XP+FQ Kargil, Ladakh', 'global_code': '8J6RG4XP+FQ'}, 'rating': 4, 'reference': 'ChIJCzbUuKoj4zgR0-HT_Bc9TvQ', 'scope': 'GOOGLE', 'types': ['lodging', 'point_of_interest', 'establishment'], 'user_ratings_total': 520, 'vicinity': ''}, {'business_status': 'OPERATIONAL', 'geometry': {'location': {'lat': 34.538361, 'lng': 76.13564}, 'viewport': {'northeast': {'lat': 34.5401637302915, 'lng': 76.1371577802915}, 'southwest': {'lat': 34.5374657697085, 'lng': 76.13445981970848}}}, 'icon': 'https://maps.gstatic.com/mapfiles/place_api/icons/v1/png_71/lodging-71.png', 'icon_background_color': '#909CE1', 'icon_mask_base_uri': 'https://maps.gstatic.com/mapfiles/place_api/icons/v2/hotel_pinlet', 'name': 'Barula Hotel', 'photos': [{'height': 868, 'html_attributions': ['<a href=\"https://maps.google.com/maps/contrib/109803621746493617525\">Barula Hotel</a>'], 'photo_reference': 'AW30NDxFa7Rf4Pj_8IJ-nRADWySJwtgkQrv8_YhZgqHU3sx1xtlZVpjjWHHEke5xIfB8gmN1XmcTod_qMEUFBXytcrRcTuXYqGLumQHKdqgAqwSIUoEPGtqD5RXaxmbQh39E9cxs0DtAmOrBSse0I6dvc20zFLpp6q-qHifbwBvs6KgS0HG-', 'width': 1160}], 'place_id': 'ChIJHxlSRbIj4zgRQl-K0MtE0uU', 'plus_code': {'compound_code': 'G4QP+87 Kargil, Ladakh', 'global_code': '8J6RG4QP+87'}, 'rating': 4.5, 'reference': 'ChIJHxlSRbIj4zgRQl-K0MtE0uU', 'scope': 'GOOGLE', 'types': ['lodging', 'restaurant', 'point_of_interest', 'food', 'establishment'], 'user_ratings_total': 335, 'vicinity': 'Baroo Khanka Road, Kargil'}, {'business_status': 'OPERATIONAL', 'geometry': {'location': {'lat': 34.5437743, 'lng': 76.1415839}, 'viewport': {'northeast': {'lat': 34.5451358802915, 'lng': 76.1429310802915}, 'southwest': {'lat': 34.5424379197085, 'lng': 76.1402331197085}}}, 'icon': 'https://maps.gstatic.com/mapfiles/place_api/icons/v1/png_71/lodging-71.png', 'icon_background_color': '#909CE1', 'icon_mask_base_uri': 'https://maps.gstatic.com/mapfiles/place_api/icons/v2/hotel_pinlet', 'name': 'Hotel Rangyul', 'opening_hours': {'open_now': True}, 'photos': [{'height': 464, 'html_attributions': ['<a href=\"https://maps.google.com/maps/contrib/117237416541395821352\">Hotel Rangyul</a>'], 'photo_reference': 'AW30NDxX6H-uXJY4Jk9P_yP-JdPH4PfcvLn2FBDBlexZJ5-LJfM2M-xwoE37yvkr3W_Do6Sq9C1Ui4iIYpfyodQhhamVzdLBh-mpmFhYDvtuHUafxDVfhOgSgY6wfJfbtmHqivTX7zJ4lHEFt12d8trLu7g0SzznWy5Ib06_T12C4wCFUBPP', 'width': 826}], 'place_id': 'ChIJdbArCK8j4zgRdDOaU19Fk-c', 'plus_code': {'compound_code': 'G4VR+GJ Kargil, Ladakh', 'global_code': '8J6RG4VR+GJ'}, 'rating': 3.9, 'reference': 'ChIJdbArCK8j4zgRdDOaU19Fk-c', 'scope': 'GOOGLE', 'types': ['lodging', 'point_of_interest', 'establishment'], 'user_ratings_total': 369, 'vicinity': 'Near District Sessions Court, National Highway 301, Baroo, Kargil'}, {'business_status': 'OPERATIONAL', 'geometry': {'location': {'lat': 34.53944999999999, 'lng': 76.140024}, 'viewport': {'northeast': {'lat': 34.5408230302915, 'lng': 76.1412998302915}, 'southwest': {'lat': 34.5381250697085, 'lng': 76.1386018697085}}}, 'icon': 'https://maps.gstatic.com/mapfiles/place_api/icons/v1/png_71/lodging-71.png', 'icon_background_color': '#909CE1', 'icon_mask_base_uri': 'https://maps.gstatic.com/mapfiles/place_api/icons/v2/hotel_pinlet', 'name': 'Saqi Hotel & Restaurant', 'photos': [{'height': 1200, 'html_attributions': ['<a href=\"https://maps.google.com/maps/contrib/111748582793995292258\">Lasbacha2016 Lasbacha2016</a>'], 'photo_reference': 'AW30NDwKhBnQYMJG_wPGpqVUdIGfr0XPp2qInmvyGliIrMea8YExUzmvFIwmPM7fzgLnshSjGwElF4_rh8Y1e0yClUHKnQEe_fkg3i1GZZ8cZsTu07n3qW48tP3nUzVqoN0WDyXjrRo8u_AR3o_vJcmfTBQmrY1PO_HYolarhRZWqpB9pZ5I', 'width': 1600}], 'place_id': 'ChIJIcOWt7Ej4zgRG66yHifzGBQ', 'plus_code': {'compound_code': 'G4QR+Q2 Kargil, Ladakh', 'global_code': '8J6RG4QR+Q2'}, 'rating': 3.6, 'reference': 'ChIJIcOWt7Ej4zgRG66yHifzGBQ', 'scope': 'GOOGLE', 'types': ['lodging', 'point_of_interest', 'establishment'], 'user_ratings_total': 101, 'vicinity': 'near DC Office, Baroo Khanka Road, Baroo Tsoq, Kargil'}, {'business_status': 'OPERATIONAL', 'geometry': {'location': {'lat': 34.5576192, 'lng': 76.12708959999999}, 'viewport': {'northeast': {'lat': 34.5589171302915, 'lng': 76.1284440302915}, 'southwest': {'lat': 34.55621916970851, 'lng': 76.1257460697085}}}, 'icon': 'https://maps.gstatic.com/mapfiles/place_api/icons/v1/png_71/lodging-71.png', 'icon_background_color': '#909CE1', 'icon_mask_base_uri': 'https://maps.gstatic.com/mapfiles/place_api/icons/v2/hotel_pinlet', 'name': 'Hotel Greenland Kargil', 'opening_hours': {'open_now': True}, 'photos': [{'height': 1453, 'html_attributions': ['<a href=\"https://maps.google.com/maps/contrib/104875940592758293750\">Hotel Greenland Kargil</a>'], 'photo_reference': 'AW30NDwWXbHyedceeNkbWAVqjwXppSQdetGy3zsexAvLy696T0GILsF9v3N3w7hV5lDXMS-r7HjPOFcnkSMx5LyBSs-34DCAYdXmvj19VBg5Y4tCJxd19ou3faDFxwUBSRPLdgXfUeHYngkI8rFuXQKaPmSVz4fVWf0TjtHXVdS9KH0z8kwT', 'width': 2048}], 'place_id': 'ChIJQ0-db_wi4zgR8LeLICuNIFE', 'plus_code': {'compound_code': 'H45G+2R Kargil, Ladakh', 'global_code': '8J6RH45G+2R'}, 'rating': 3.7, 'reference': 'ChIJQ0-db_wi4zgR8LeLICuNIFE', 'scope': 'GOOGLE', 'types': ['lodging', 'point_of_interest', 'establishment'], 'user_ratings_total': 338, 'vicinity': 'Changchik Kargil Jammu and Kashmir'}, {'business_status': 'OPERATIONAL', 'geometry': {'location': {'lat': 34.56142419999999, 'lng': 76.12364869999999}, 'viewport': {'northeast': {'lat': 34.56275223029149, 'lng': 76.12512658029151}, 'southwest': {'lat': 34.56005426970849, 'lng': 76.12242861970849}}}, 'icon': 'https://maps.gstatic.com/mapfiles/place_api/icons/v1/png_71/lodging-71.png', 'icon_background_color': '#909CE1', 'icon_mask_base_uri': 'https://maps.gstatic.com/mapfiles/place_api/icons/v2/hotel_pinlet', 'name': 'Hotel Caravan Sarai Kargil', 'photos': [{'height': 948, 'html_attributions': ['<a href=\"https://maps.google.com/maps/contrib/110570257333507784530\">Hotel Caravan Sarai Kargil</a>'], 'photo_reference': 'AW30NDx2PgXvrYxcygrU0epMJ66UOtILBoPRt8IpbE1s6Z8ajYzEMBcCvXhn55MVGQgR7WT0XXl-fdrNVuKyl67bfbY6_kZ5U2jvJfJWhR4jdMJS5px6vSrJ9oReAX1R3v6tHitv7A5OrjPjF5pjqimW-muAKYzItDpzM6MLi0W-IrDNXeZH', 'width': 1920}], 'place_id': 'ChIJia0f-Dgj4zgRaBIMROmUfBE', 'plus_code': {'compound_code': 'H46F+HF Kargil, Ladakh', 'global_code': '8J6RH46F+HF'}, 'rating': 4.1, 'reference': 'ChIJia0f-Dgj4zgRaBIMROmUfBE', 'scope': 'GOOGLE', 'types': ['lodging', 'point_of_interest', 'establishment'], 'user_ratings_total': 56, 'vicinity': 'near Post Office, Hospital Road, Lankoor, near Post Office, Kargil'}, {'business_status': 'OPERATIONAL', 'geometry': {'location': {'lat': 34.5614915, 'lng': 76.1236785}, 'viewport': {'northeast': {'lat': 34.56280248029149, 'lng': 76.1251491302915}, 'southwest': {'lat': 34.56010451970849, 'lng': 76.12245116970848}}}, 'icon': 'https://maps.gstatic.com/mapfiles/place_api/icons/v1/png_71/lodging-71.png', 'icon_background_color': '#909CE1', 'icon_mask_base_uri': 'https://maps.gstatic.com/mapfiles/place_api/icons/v2/hotel_pinlet', 'name': 'Lankhoor', 'place_id': 'ChIJjWqrz6cj4zgRrt9evVYnWYQ', 'reference': 'ChIJjWqrz6cj4zgRrt9evVYnWYQ', 'scope': 'GOOGLE', 'types': ['lodging', 'point_of_interest', 'establishment'], 'vicinity': 'H46F+HFV, Caraven Saraai Rd, Lankore, Kargil'}, {'business_status': 'OPERATIONAL', 'geometry': {'location': {'lat': 34.5615235, 'lng': 76.123997}, 'viewport': {'northeast': {'lat': 34.5628876802915, 'lng': 76.12531083029151}, 'southwest': {'lat': 34.5601897197085, 'lng': 76.1226128697085}}}, 'icon': 'https://maps.gstatic.com/mapfiles/place_api/icons/v1/png_71/lodging-71.png', 'icon_background_color': '#909CE1', 'icon_mask_base_uri': 'https://maps.gstatic.com/mapfiles/place_api/icons/v2/hotel_pinlet', 'name': 'Hotel D carvan', 'place_id': 'ChIJhZSWkP0j4zgRTL_wA6IHhr0', 'reference': 'ChIJhZSWkP0j4zgRTL_wA6IHhr0', 'scope': 'GOOGLE', 'types': ['lodging', 'point_of_interest', 'establishment'], 'vicinity': 'H46F+GJ4, Goma Road, Thaqskan Grong, Goma, Kargil'}, {'business_status': 'OPERATIONAL', 'geometry': {'location': {'lat': 34.56023319999999, 'lng': 76.1236373}, 'viewport': {'northeast': {'lat': 34.5615817302915, 'lng': 76.1249858802915}, 'southwest': {'lat': 34.5588837697085, 'lng': 76.1222879197085}}}, 'icon': 'https://maps.gstatic.com/mapfiles/place_api/icons/v1/png_71/lodging-71.png', 'icon_background_color': '#909CE1', 'icon_mask_base_uri': 'https://maps.gstatic.com/mapfiles/place_api/icons/v2/hotel_pinlet', 'name': 'Girls Hostel Ghss kargil', 'place_id': 'ChIJ37B3w-kj4zgR2zH_yZxXRP8', 'rating': 3.3, 'reference': 'ChIJ37B3w-kj4zgR2zH_yZxXRP8', 'scope': 'GOOGLE', 'types': ['lodging', 'point_of_interest', 'establishment'], 'user_ratings_total': 3, 'vicinity': 'H46F+3FR, Tanmosa, Kargil'}, {'business_status': 'OPERATIONAL', 'geometry': {'location': {'lat': 34.5603433, 'lng': 76.1236839}, 'viewport': {'northeast': {'lat': 34.5616577302915, 'lng': 76.1250057302915}, 'southwest': {'lat': 34.5589597697085, 'lng': 76.1223077697085}}}, 'icon': 'https://maps.gstatic.com/mapfiles/place_api/icons/v1/png_71/lodging-71.png', 'icon_background_color': '#909CE1', 'icon_mask_base_uri': 'https://maps.gstatic.com/mapfiles/place_api/icons/v2/hotel_pinlet', 'name': 'Hotel California', 'place_id': 'ChIJC13Q_4wj4zgRRkm5DCCwYVw', 'reference': 'ChIJC13Q_4wj4zgRRkm5DCCwYVw', 'scope': 'GOOGLE', 'types': ['lodging', 'point_of_interest', 'establishment'], 'vicinity': 'H46F+3FR, Tanmosa, Kargil'}, {'business_status': 'OPERATIONAL', 'geometry': {'location': {'lat': 34.5603196, 'lng': 76.1237067}, 'viewport': {'northeast': {'lat': 34.5616380802915, 'lng': 76.12503173029151}, 'southwest': {'lat': 34.5589401197085, 'lng': 76.12233376970849}}}, 'icon': 'https://maps.gstatic.com/mapfiles/place_api/icons/v1/png_71/lodging-71.png', 'icon_background_color': '#909CE1', 'icon_mask_base_uri': 'https://maps.gstatic.com/mapfiles/place_api/icons/v2/hotel_pinlet', 'name': 'APRICOT INN(Hotel & Restaurant)', 'photos': [{'height': 2128, 'html_attributions': ['<a href=\"https://maps.google.com/maps/contrib/107024537893761322905\">APRICOT INN(Hotel &amp; Restaurant)</a>'], 'photo_reference': 'AW30NDyoQvzg1PGmulUMhnt_7wx223Y2H6bgDSyDd_EUfEgVhosJc2xw2wJ6lzvdN7tjE-6fx7FomixNiqt1WF6B3DqYLnMiLJzb1BuE11n19UkLDUlw8hYTAXZ0vDEhwj8QGvWa9Orj6ovL44HT5k27mpdELbq-Cshb7Lq5SJ2as1EhRWwF', 'width': 4608}], 'place_id': 'ChIJJSdUUhIb4zgR-3TaV39UPHE', 'plus_code': {'compound_code': 'H46F+4F Kargil, Ladakh', 'global_code': '8J6RH46F+4F'}, 'rating': 4.8, 'reference': 'ChIJJSdUUhIb4zgR-3TaV39UPHE', 'scope': 'GOOGLE', 'types': ['lodging', 'point_of_interest', 'establishment'], 'user_ratings_total': 20, 'vicinity': 'Tanmosa, Kargil'}, {'business_status': 'OPERATIONAL', 'geometry': {'location': {'lat': 34.5689549, 'lng': 76.1254067}, 'viewport': {'northeast': {'lat': 34.5703358302915, 'lng': 76.1267794302915}, 'southwest': {'lat': 34.5676378697085, 'lng': 76.12408146970849}}}, 'icon': 'https://maps.gstatic.com/mapfiles/place_api/icons/v1/png_71/lodging-71.png', 'icon_background_color': '#909CE1', 'icon_mask_base_uri': 'https://maps.gstatic.com/mapfiles/place_api/icons/v2/hotel_pinlet', 'name': 'River Edge Guest House', 'photos': [{'height': 4608, 'html_attributions': ['<a href=\"https://maps.google.com/maps/contrib/103741257526270082821\">River Edge Guest House</a>'], 'photo_reference': 'AW30NDwYTgyPgla4vESpWRXOeUTRlyE4F1TO0PdyIe36T7hX04XgB84-hvWJJ8pPjIDes-LyRbfeUYP5rt1oNYSvZT9xDtkWYE36aI8zmI0Hog-gm05C0tFbIazBtPD6_53yUEzfFZjgV56MvIYtIXV1CwSGE9hfQr3TUMqS1dcbQ0RP6cLt', 'width': 2128}], 'place_id': 'ChIJrUHY0hAj4zgR_ipgSyylIeo', 'plus_code': {'compound_code': 'H49G+H5 Kargil, Ladakh', 'global_code': '8J6RH49G+H5'}, 'rating': 3, 'reference': 'ChIJrUHY0hAj4zgR_ipgSyylIeo', 'scope': 'GOOGLE', 'types': ['lodging', 'point_of_interest', 'establishment'], 'user_ratings_total': 2, 'vicinity': 'Near bye pass bridge, Town, dass, Kargil'}, {'business_status': 'OPERATIONAL', 'geometry': {'location': {'lat': 34.5703845, 'lng': 76.1251813}, 'viewport': {'northeast': {'lat': 34.57172618029151, 'lng': 76.12656488029151}, 'southwest': {'lat': 34.56902821970851, 'lng': 76.12386691970849}}}, 'icon': 'https://maps.gstatic.com/mapfiles/place_api/icons/v1/png_71/lodging-71.png', 'icon_background_color': '#909CE1', 'icon_mask_base_uri': 'https://maps.gstatic.com/mapfiles/place_api/icons/v2/hotel_pinlet', 'name': 'Hotel Border View', 'opening_hours': {'open_now': True}, 'photos': [{'height': 2278, 'html_attributions': ['<a href=\"https://maps.google.com/maps/contrib/106018088515350669726\">Hotel Border View</a>'], 'photo_reference': 'AW30NDwaNyOOapekPXnDNRnnLOYFxKhtXal1COtsTdUaWI6R-Rv4_oi7i6rhaxu3iDMK0MF6pg3MHEFV0AjkiAFkRwMFG5OT-Ido36KEZukHx_lXs65JRWmLC2Kgq7Nb778UsPSYNB2vfum3z7iaaBwwSfbdb1yJGuXOTUtuBlmoMu3zWNll', 'width': 2427}], 'place_id': 'ChIJtXEe1ekj4zgRY7_o5zFwhxY', 'plus_code': {'compound_code': 'H4CG+53 Kargil, Ladakh', 'global_code': '8J6RH4CG+53'}, 'rating': 4.5, 'reference': 'ChIJtXEe1ekj4zgRY7_o5zFwhxY', 'scope': 'GOOGLE', 'types': ['lodging', 'point_of_interest', 'establishment'], 'user_ratings_total': 214, 'vicinity': 'NH1 ByPass Bridge Shelikchay Kargil Ladakh Jammu and Kashmir'}, {'business_status': 'OPERATIONAL', 'geometry': {'location': {'lat': 34.5688799, 'lng': 76.125491}, 'viewport': {'northeast': {'lat': 34.5702737302915, 'lng': 76.1268718802915}, 'southwest': {'lat': 34.5675757697085, 'lng': 76.12417391970848}}}, 'icon': 'https://maps.gstatic.com/mapfiles/place_api/icons/v1/png_71/lodging-71.png', 'icon_background_color': '#909CE1', 'icon_mask_base_uri': 'https://maps.gstatic.com/mapfiles/place_api/icons/v2/hotel_pinlet', 'name': 'LOC VIEW', 'photos': [{'height': 3472, 'html_attributions': ['<a href=\"https://maps.google.com/maps/contrib/112821119405851836950\">ankush kumar</a>'], 'photo_reference': 'AW30NDx2jLn1KZrJh021zTvZwZDaI88oxQQz4TP4DyIymRBK3E_09Gq08k_pmiCBX1lt4ATZ93ahYCsblkryfVxCTlY9A1PNH-AFM16lDjsoZK4WI2iF19r81YehfZs3BImIsGnWOOc-LznRRlJ_J4wsrxJPMJHdU10OkOWxC2qc8gSi4QNx', 'width': 4640}], 'place_id': 'ChIJY0bMlqcj4zgR1AMIOAXLnPI', 'rating': 3.7, 'reference': 'ChIJY0bMlqcj4zgR1AMIOAXLnPI', 'scope': 'GOOGLE', 'types': ['lodging', 'point_of_interest', 'establishment'], 'user_ratings_total': 7, 'vicinity': 'H49G+G3V, KTC CHANGRAH MARKET, Adul Gund, Kargil'}], 'status': 'OK'}\n"
     ]
    }
   ],
   "source": [
    "## Iterate through the hotel DataFrame \n",
    "for index, row in hotel_df.iterrows():\n",
    "    # Fetch latitude and longitude from the DataFrame\n",
    "    lat = hotel_df['Lat'][index]\n",
    "    lng = hotel_df['Lng'][index]\n",
    "\n",
    "    # Add the latitude and longitude as parameters to the params dictionary\n",
    "    params[\"location\"] = f\"{lat},{lng}\"\n",
    "    \n",
    "    # Set up the base URL for the Google Directions API to get JSON data\n",
    "    base_url = \"https://maps.googleapis.com/maps/api/place/nearbysearch/json\"\n",
    "\n",
    "    # Make an API request and retrieve the JSON data from the hotel search\n",
    "    hotels = requests.get(base_url, params=params).json()\n",
    "    \n",
    "    # Get the first hotel from the results and store the name, if a hotel isn't found skip the city\n",
    "    try:\n",
    "        hotel_df.loc[index, \"Hotel Name\"] = hotels[\"results\"][0][\"name\"]\n",
    "    except (IndexError):\n",
    "        print(\"Hotel not found... skipping.\")\n",
    "\n"
   ]
  },
  {
   "cell_type": "code",
   "execution_count": 47,
   "metadata": {},
   "outputs": [
    {
     "name": "stdout",
     "output_type": "stream",
     "text": [
      "         City Country  Max Temp Current Description      Lat      Lng  \\\n",
      "8      Hearst      CA     12.45     overcast clouds  49.6835 -83.6665   \n",
      "14   Sladkovo      RU     12.60     overcast clouds  55.5284  70.3385   \n",
      "272  Sisimiut      GL     14.58     overcast clouds  66.9395 -53.6735   \n",
      "472    Askino      RU     12.85     overcast clouds  56.0901  56.5783   \n",
      "497  Kargasok      RU     14.32          light snow  59.0556  80.8572   \n",
      "\n",
      "         Hotel Name  \n",
      "8         Companion  \n",
      "14       Gostinitsa  \n",
      "272  Hotel Sisimiut  \n",
      "472            Uyut  \n",
      "497  Hotel Kargasok  \n"
     ]
    }
   ],
   "source": [
    "# Display sample data\n",
    "print(hotel_df.head())"
   ]
  },
  {
   "cell_type": "markdown",
   "metadata": {},
   "source": [
    "## Drop any rows in the `hotel_df` DataFrame where a hotel name is not found and store the resulting data into a new DataFrame named `clean_hotel_df`."
   ]
  },
  {
   "cell_type": "code",
   "execution_count": 51,
   "metadata": {},
   "outputs": [
    {
     "name": "stdout",
     "output_type": "stream",
     "text": [
      "            City Country  Max Temp Current Description      Lat      Lng  \\\n",
      "8         Hearst      CA     12.45     overcast clouds  49.6835 -83.6665   \n",
      "14      Sladkovo      RU     12.60     overcast clouds  55.5284  70.3385   \n",
      "272     Sisimiut      GL     14.58     overcast clouds  66.9395 -53.6735   \n",
      "472       Askino      RU     12.85     overcast clouds  56.0901  56.5783   \n",
      "497     Kargasok      RU     14.32          light snow  59.0556  80.8572   \n",
      "559  Krasnoborsk      RU     14.95     overcast clouds  61.5598  45.9340   \n",
      "638       Kargil      IN     14.56     overcast clouds  34.5667  76.1000   \n",
      "\n",
      "                        Hotel Name  \n",
      "8                        Companion  \n",
      "14                      Gostinitsa  \n",
      "272                 Hotel Sisimiut  \n",
      "472                           Uyut  \n",
      "497                 Hotel Kargasok  \n",
      "559  Baza Otdykha \"Medvezhiy Ugol\"  \n",
      "638     Hotel Caravan Sarai Kargil  \n"
     ]
    }
   ],
   "source": [
    "# Drop the rows where there is no Hotel Name.\n",
    "clean_hotel_df = hotel_df.dropna()\n",
    "\n",
    "# Display sample data\n",
    "print(clean_hotel_df.head(10))"
   ]
  },
  {
   "cell_type": "markdown",
   "metadata": {},
   "source": [
    "**Note:** If the resulting DataFrame is empty, uncomment the following code to load sample data into the `clean_hotel_df`."
   ]
  },
  {
   "cell_type": "code",
   "execution_count": 50,
   "metadata": {},
   "outputs": [
    {
     "data": {
      "text/html": [
       "<div>\n",
       "<style scoped>\n",
       "    .dataframe tbody tr th:only-of-type {\n",
       "        vertical-align: middle;\n",
       "    }\n",
       "\n",
       "    .dataframe tbody tr th {\n",
       "        vertical-align: top;\n",
       "    }\n",
       "\n",
       "    .dataframe thead th {\n",
       "        text-align: right;\n",
       "    }\n",
       "</style>\n",
       "<table border=\"1\" class=\"dataframe\">\n",
       "  <thead>\n",
       "    <tr style=\"text-align: right;\">\n",
       "      <th></th>\n",
       "      <th>City_ID</th>\n",
       "      <th>City</th>\n",
       "      <th>Country</th>\n",
       "      <th>Max Temp</th>\n",
       "      <th>Current Description</th>\n",
       "      <th>Lat</th>\n",
       "      <th>Lng</th>\n",
       "      <th>Hotel Name</th>\n",
       "    </tr>\n",
       "  </thead>\n",
       "  <tbody>\n",
       "    <tr>\n",
       "      <th>0</th>\n",
       "      <td>2</td>\n",
       "      <td>Aksu</td>\n",
       "      <td>CN</td>\n",
       "      <td>82.42</td>\n",
       "      <td>clear sky</td>\n",
       "      <td>41.12</td>\n",
       "      <td>80.26</td>\n",
       "      <td>Pudong Holiday Hotel</td>\n",
       "    </tr>\n",
       "    <tr>\n",
       "      <th>1</th>\n",
       "      <td>7</td>\n",
       "      <td>Touros</td>\n",
       "      <td>BR</td>\n",
       "      <td>80.60</td>\n",
       "      <td>broken clouds</td>\n",
       "      <td>-5.20</td>\n",
       "      <td>-35.46</td>\n",
       "      <td>INN NEW HORIZON</td>\n",
       "    </tr>\n",
       "    <tr>\n",
       "      <th>2</th>\n",
       "      <td>10</td>\n",
       "      <td>Morehead</td>\n",
       "      <td>US</td>\n",
       "      <td>75.20</td>\n",
       "      <td>clear sky</td>\n",
       "      <td>37.27</td>\n",
       "      <td>-87.18</td>\n",
       "      <td>CCI Express Inn</td>\n",
       "    </tr>\n",
       "    <tr>\n",
       "      <th>3</th>\n",
       "      <td>11</td>\n",
       "      <td>Port Elizabeth</td>\n",
       "      <td>ZA</td>\n",
       "      <td>84.20</td>\n",
       "      <td>clear sky</td>\n",
       "      <td>-33.92</td>\n",
       "      <td>25.57</td>\n",
       "      <td>39 On Nile Guest House</td>\n",
       "    </tr>\n",
       "    <tr>\n",
       "      <th>4</th>\n",
       "      <td>16</td>\n",
       "      <td>Northam</td>\n",
       "      <td>GB</td>\n",
       "      <td>82.40</td>\n",
       "      <td>few clouds</td>\n",
       "      <td>51.03</td>\n",
       "      <td>-4.22</td>\n",
       "      <td>Durrant House Hotel</td>\n",
       "    </tr>\n",
       "    <tr>\n",
       "      <th>5</th>\n",
       "      <td>18</td>\n",
       "      <td>Hyderabad</td>\n",
       "      <td>IN</td>\n",
       "      <td>87.01</td>\n",
       "      <td>haze</td>\n",
       "      <td>17.38</td>\n",
       "      <td>78.47</td>\n",
       "      <td>Taj Krishna, Hyderabad</td>\n",
       "    </tr>\n",
       "    <tr>\n",
       "      <th>6</th>\n",
       "      <td>20</td>\n",
       "      <td>Port Alfred</td>\n",
       "      <td>ZA</td>\n",
       "      <td>82.00</td>\n",
       "      <td>clear sky</td>\n",
       "      <td>-33.59</td>\n",
       "      <td>26.89</td>\n",
       "      <td>The Halyards Hotel</td>\n",
       "    </tr>\n",
       "    <tr>\n",
       "      <th>7</th>\n",
       "      <td>22</td>\n",
       "      <td>Atuona</td>\n",
       "      <td>PF</td>\n",
       "      <td>79.72</td>\n",
       "      <td>clear sky</td>\n",
       "      <td>-9.80</td>\n",
       "      <td>-139.03</td>\n",
       "      <td>Villa Enata</td>\n",
       "    </tr>\n",
       "    <tr>\n",
       "      <th>8</th>\n",
       "      <td>23</td>\n",
       "      <td>Kapaa</td>\n",
       "      <td>US</td>\n",
       "      <td>73.40</td>\n",
       "      <td>heavy intensity rain</td>\n",
       "      <td>22.08</td>\n",
       "      <td>-159.32</td>\n",
       "      <td>Sheraton Kauai Resort at Coconut Beach</td>\n",
       "    </tr>\n",
       "    <tr>\n",
       "      <th>9</th>\n",
       "      <td>25</td>\n",
       "      <td>Nikolskoye</td>\n",
       "      <td>RU</td>\n",
       "      <td>88.00</td>\n",
       "      <td>clear sky</td>\n",
       "      <td>59.70</td>\n",
       "      <td>30.79</td>\n",
       "      <td>Tourist House - Sablino</td>\n",
       "    </tr>\n",
       "  </tbody>\n",
       "</table>\n",
       "</div>"
      ],
      "text/plain": [
       "   City_ID            City Country  Max Temp   Current Description    Lat  \\\n",
       "0        2            Aksu      CN     82.42             clear sky  41.12   \n",
       "1        7          Touros      BR     80.60         broken clouds  -5.20   \n",
       "2       10        Morehead      US     75.20             clear sky  37.27   \n",
       "3       11  Port Elizabeth      ZA     84.20             clear sky -33.92   \n",
       "4       16         Northam      GB     82.40            few clouds  51.03   \n",
       "5       18       Hyderabad      IN     87.01                  haze  17.38   \n",
       "6       20     Port Alfred      ZA     82.00             clear sky -33.59   \n",
       "7       22          Atuona      PF     79.72             clear sky  -9.80   \n",
       "8       23           Kapaa      US     73.40  heavy intensity rain  22.08   \n",
       "9       25      Nikolskoye      RU     88.00             clear sky  59.70   \n",
       "\n",
       "      Lng                              Hotel Name  \n",
       "0   80.26                    Pudong Holiday Hotel  \n",
       "1  -35.46                         INN NEW HORIZON  \n",
       "2  -87.18                         CCI Express Inn  \n",
       "3   25.57                  39 On Nile Guest House  \n",
       "4   -4.22                     Durrant House Hotel  \n",
       "5   78.47                  Taj Krishna, Hyderabad  \n",
       "6   26.89                      The Halyards Hotel  \n",
       "7 -139.03                             Villa Enata  \n",
       "8 -159.32  Sheraton Kauai Resort at Coconut Beach  \n",
       "9   30.79                 Tourist House - Sablino  "
      ]
     },
     "execution_count": 50,
     "metadata": {},
     "output_type": "execute_result"
    }
   ],
   "source": [
    "# In case of an empty DataFrame, load the sample data provided\n",
    "# clean_hotel_df = pd.read_csv(\"C:\\\\Users\\\\bpiet\\\\anaconda3\\\\envs\\\\PythonData\\\\Class\\\\Vacation_Search\\\\WeatherPy_vacation-backup.csv\")\n",
    "# clean_hotel_df.head(10)"
   ]
  },
  {
   "cell_type": "markdown",
   "metadata": {},
   "source": [
    "## Create an CSV file to store the `clean_hotel_df` DataFrame as `WeatherPy_vacation.csv` in the Vacation_Search folder."
   ]
  },
  {
   "cell_type": "code",
   "execution_count": 52,
   "metadata": {},
   "outputs": [],
   "source": [
    "# Set the file name.\n",
    "output_data_file = \"WeatherPy_vacation.csv\"\n",
    "\n",
    "# Create a CSV file by using the clean_hotel_df DataFrame\n",
    "output_data_file = clean_hotel_df.to_csv(output_data_file, index=False)"
   ]
  },
  {
   "cell_type": "markdown",
   "metadata": {},
   "source": [
    "### Review the formatting template provided that you'll use to add an information box to each marker in the map.\n",
    "\n",
    "In the pop-up for each city you'll add: \n",
    "\n",
    "1. The city name\n",
    "\n",
    "2. The country code\n",
    "\n",
    "3. The weather description and maximum temperature for the city"
   ]
  },
  {
   "cell_type": "code",
   "execution_count": 54,
   "metadata": {},
   "outputs": [
    {
     "ename": "SyntaxError",
     "evalue": "invalid syntax (4204937732.py, line 2)",
     "output_type": "error",
     "traceback": [
      "\u001b[1;36m  File \u001b[1;32m\"C:\\Users\\bpiet\\AppData\\Local\\Temp\\ipykernel_21660\\4204937732.py\"\u001b[1;36m, line \u001b[1;32m2\u001b[0m\n\u001b[1;33m    info_box_template =\u001b[0m\n\u001b[1;37m                        ^\u001b[0m\n\u001b[1;31mSyntaxError\u001b[0m\u001b[1;31m:\u001b[0m invalid syntax\n"
     ]
    }
   ],
   "source": [
    "# Review the formatting template provided\n",
    "info_box_template = \"\"\"\n",
    "<dl>\n",
    "<dt>Hotel Name</dt><dd>{Hotel Name}</dd>\n",
    "<dt>City</dt><dd>{City}</dd>\n",
    "<dt>Country</dt><dd>{Country}</dd>\n",
    "<dt>Current Weather</dt><dd>{Current Description} and {Max Temp} °F</dd>\n",
    "</dl>\n",
    "\"\"\""
   ]
  },
  {
   "cell_type": "markdown",
   "metadata": {},
   "source": [
    "## Review the provided list comprehension code to retrieve the city data from each row, which will then be added to the formatting template and saved in the `hotel_info` list."
   ]
  },
  {
   "cell_type": "code",
   "execution_count": 55,
   "metadata": {},
   "outputs": [
    {
     "data": {
      "text/plain": [
       "['\\n<dl>\\n<dt>Hotel Name</dt><dd>Companion</dd>\\n<dt>City</dt><dd>Hearst</dd>\\n<dt>Country</dt><dd>CA</dd>\\n<dt>Current Weather</dt><dd>overcast clouds and 12.45 °F</dd>\\n</dl>\\n',\n",
       " '\\n<dl>\\n<dt>Hotel Name</dt><dd>Gostinitsa</dd>\\n<dt>City</dt><dd>Sladkovo</dd>\\n<dt>Country</dt><dd>RU</dd>\\n<dt>Current Weather</dt><dd>overcast clouds and 12.6 °F</dd>\\n</dl>\\n',\n",
       " '\\n<dl>\\n<dt>Hotel Name</dt><dd>Hotel Sisimiut</dd>\\n<dt>City</dt><dd>Sisimiut</dd>\\n<dt>Country</dt><dd>GL</dd>\\n<dt>Current Weather</dt><dd>overcast clouds and 14.58 °F</dd>\\n</dl>\\n',\n",
       " '\\n<dl>\\n<dt>Hotel Name</dt><dd>Uyut</dd>\\n<dt>City</dt><dd>Askino</dd>\\n<dt>Country</dt><dd>RU</dd>\\n<dt>Current Weather</dt><dd>overcast clouds and 12.85 °F</dd>\\n</dl>\\n',\n",
       " '\\n<dl>\\n<dt>Hotel Name</dt><dd>Hotel Kargasok</dd>\\n<dt>City</dt><dd>Kargasok</dd>\\n<dt>Country</dt><dd>RU</dd>\\n<dt>Current Weather</dt><dd>light snow and 14.32 °F</dd>\\n</dl>\\n',\n",
       " '\\n<dl>\\n<dt>Hotel Name</dt><dd>Baza Otdykha \"Medvezhiy Ugol\"</dd>\\n<dt>City</dt><dd>Krasnoborsk</dd>\\n<dt>Country</dt><dd>RU</dd>\\n<dt>Current Weather</dt><dd>overcast clouds and 14.95 °F</dd>\\n</dl>\\n',\n",
       " '\\n<dl>\\n<dt>Hotel Name</dt><dd>Hotel Caravan Sarai Kargil</dd>\\n<dt>City</dt><dd>Kargil</dd>\\n<dt>Country</dt><dd>IN</dd>\\n<dt>Current Weather</dt><dd>overcast clouds and 14.56 °F</dd>\\n</dl>\\n']"
      ]
     },
     "execution_count": 55,
     "metadata": {},
     "output_type": "execute_result"
    }
   ],
   "source": [
    "# Get the data from each row in the clean_hotel_df DataFrame, add it to the formatting template, and store the data in a list.\n",
    "hotel_info = [info_box_template.format(**row) for index, row in clean_hotel_df.iterrows()]\n",
    "\n",
    "# Display sample data\n",
    "hotel_info[:10]"
   ]
  },
  {
   "cell_type": "markdown",
   "metadata": {},
   "source": [
    "## Use the provided code snippet to retrieve the latitude and longitude from each row and store them in a new DataFrame called `locations`."
   ]
  },
  {
   "cell_type": "code",
   "execution_count": null,
   "metadata": {},
   "outputs": [],
   "source": [
    "# Get the latitude and longitude from each row and store in a new DataFrame.\n",
    "locations = clean_hotel_df[[\"Lat\", \"Lng\"]]\n",
    "\n",
    "# Display sample data\n",
    "locations.head(10)"
   ]
  },
  {
   "cell_type": "markdown",
   "metadata": {},
   "source": [
    "## Refactor your previous marker layer map code to create a marker layer map that will have pop-up markers for each city on the map."
   ]
  },
  {
   "cell_type": "code",
   "execution_count": 57,
   "metadata": {},
   "outputs": [
    {
     "data": {
      "application/vnd.jupyter.widget-view+json": {
       "model_id": "5b756c0bd83548cf867a38f3d233f55b",
       "version_major": 2,
       "version_minor": 0
      },
      "text/plain": [
       "Figure(layout=FigureLayout(height='420px'))"
      ]
     },
     "metadata": {},
     "output_type": "display_data"
    }
   ],
   "source": [
    "#Add a marker layer for each city to the map. \n",
    "marker_layer = gmaps.marker_layer(locations, info_box_content=hotel_info)\n",
    "\n",
    "# Create a figure to add the Google map as a layer\n",
    "fig = gmaps.figure(center=(30.0, 31.0), zoom_level=1.5)\n",
    "\n",
    "# Display the figure containing the map\n",
    "fig.add_layer(marker_layer)\n",
    "\n",
    "fig"
   ]
  },
  {
   "cell_type": "code",
   "execution_count": null,
   "metadata": {},
   "outputs": [],
   "source": []
  }
 ],
 "metadata": {
  "kernelspec": {
   "display_name": "Python 3 (ipykernel)",
   "language": "python",
   "name": "python3"
  },
  "language_info": {
   "codemirror_mode": {
    "name": "ipython",
    "version": 3
   },
   "file_extension": ".py",
   "mimetype": "text/x-python",
   "name": "python",
   "nbconvert_exporter": "python",
   "pygments_lexer": "ipython3",
   "version": "3.9.13"
  },
  "latex_envs": {
   "LaTeX_envs_menu_present": true,
   "autoclose": false,
   "autocomplete": true,
   "bibliofile": "biblio.bib",
   "cite_by": "apalike",
   "current_citInitial": 1,
   "eqLabelWithNumbers": true,
   "eqNumInitial": 1,
   "hotkeys": {
    "equation": "Ctrl-E",
    "itemize": "Ctrl-I"
   },
   "labels_anchors": false,
   "latex_user_defs": false,
   "report_style_numbering": false,
   "user_envs_cfg": false
  }
 },
 "nbformat": 4,
 "nbformat_minor": 4
}
